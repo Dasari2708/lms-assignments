{
  "nbformat": 4,
  "nbformat_minor": 0,
  "metadata": {
    "colab": {
      "provenance": [],
      "authorship_tag": "ABX9TyPh4N/pT985Nzc/Cjs54Mrh",
      "include_colab_link": true
    },
    "kernelspec": {
      "name": "python3",
      "display_name": "Python 3"
    },
    "language_info": {
      "name": "python"
    }
  },
  "cells": [
    {
      "cell_type": "markdown",
      "metadata": {
        "id": "view-in-github",
        "colab_type": "text"
      },
      "source": [
        "<a href=\"https://colab.research.google.com/github/Dasari2708/lms-assignments/blob/main/collecting_data_from_files.ipynb\" target=\"_parent\"><img src=\"https://colab.research.google.com/assets/colab-badge.svg\" alt=\"Open In Colab\"/></a>"
      ]
    },
    {
      "cell_type": "code",
      "execution_count": 1,
      "metadata": {
        "colab": {
          "base_uri": "https://localhost:8080/"
        },
        "id": "e4ACOKZcJNcD",
        "outputId": "86841df0-ec28-4a57-f14d-74d4b788d408"
      },
      "outputs": [
        {
          "output_type": "stream",
          "name": "stdout",
          "text": [
            "Collecting python-docx\n",
            "  Downloading python_docx-1.1.2-py3-none-any.whl.metadata (2.0 kB)\n",
            "Requirement already satisfied: lxml>=3.1.0 in /usr/local/lib/python3.11/dist-packages (from python-docx) (5.3.0)\n",
            "Requirement already satisfied: typing-extensions>=4.9.0 in /usr/local/lib/python3.11/dist-packages (from python-docx) (4.12.2)\n",
            "Downloading python_docx-1.1.2-py3-none-any.whl (244 kB)\n",
            "\u001b[?25l   \u001b[90m━━━━━━━━━━━━━━━━━━━━━━━━━━━━━━━━━━━━━━━━\u001b[0m \u001b[32m0.0/244.3 kB\u001b[0m \u001b[31m?\u001b[0m eta \u001b[36m-:--:--\u001b[0m\r\u001b[2K   \u001b[91m━━━━━━━━━━━━━━━━━━\u001b[0m\u001b[90m╺\u001b[0m\u001b[90m━━━━━━━━━━━━━━━━━━━━━\u001b[0m \u001b[32m112.6/244.3 kB\u001b[0m \u001b[31m3.1 MB/s\u001b[0m eta \u001b[36m0:00:01\u001b[0m\r\u001b[2K   \u001b[90m━━━━━━━━━━━━━━━━━━━━━━━━━━━━━━━━━━━━━━━━\u001b[0m \u001b[32m244.3/244.3 kB\u001b[0m \u001b[31m3.4 MB/s\u001b[0m eta \u001b[36m0:00:00\u001b[0m\n",
            "\u001b[?25hInstalling collected packages: python-docx\n",
            "Successfully installed python-docx-1.1.2\n"
          ]
        }
      ],
      "source": [
        "!pip install python-docx"
      ]
    },
    {
      "cell_type": "code",
      "source": [
        "import docx"
      ],
      "metadata": {
        "id": "MhGHwqyWJcff"
      },
      "execution_count": 2,
      "outputs": []
    },
    {
      "cell_type": "code",
      "source": [
        "doc = open(\"/content/Document 20 (2).docx\",\"rb\")\n",
        "document = docx.Document(doc)"
      ],
      "metadata": {
        "id": "HlpBOW33Jgg0"
      },
      "execution_count": 3,
      "outputs": []
    },
    {
      "cell_type": "code",
      "source": [
        "docu = \"\"\n",
        "for para in document.paragraphs:\n",
        "  docu += para.text\n",
        "print(docu)"
      ],
      "metadata": {
        "colab": {
          "base_uri": "https://localhost:8080/"
        },
        "id": "UmKbNv1uK3rx",
        "outputId": "4c5d5433-5722-45ef-bc48-9aabbc0aac27"
      },
      "execution_count": 6,
      "outputs": [
        {
          "output_type": "stream",
          "name": "stdout",
          "text": [
            "To,CM PRAJAVANI,District Collector, Jagtial,Municipal Commissioner, Korutla,Revenu Divisional Officer, Korutla.My name is Narsayya Rajaram Kanikaram S/o Rajaram, Age: 66 Years, R/o: 6-3-1176, Flat No:109, Buddha View Apartments, B S Maqta, Begumpet, Hyderabad.I would like to bring light to the injustice I am facing as a senior citizen due to the said individual 1)Vardhineni Rajeshwar Rao S/o Ramarao by occupying my property and constructing Illegal building over it, we have filed multiple complaints with the korutla municipality, Hence the Municipality team visited the site and served notice to the following individual and issued Speaking Order No: G1/962/2024 along with W.P 2002/2025 to take strict action against Vardhineni Rajeshwar Rao w.r.t Telangana Municipality Act, 2019.I would like to inform that the said individual has purchased the property sized 30 feet (facing south) with sale deed no: 1161/2021 from Anugandula Narsu, originally sized 49 feet 6 inches (facing south with 18 feet road) with Link Document No:995/1996, with 19 feet 6 inches remaining on the east side of the property measuring from the west end.Anagandula Narsu executed another sale deed no: 7216/2019 with Bejarapu Prashanth Kumar with the extent of 42 feet on the east side (facing south with 18 feet road), but as per the Link Document No:995/1996 there should be only 19 feet left on the east part of south side with 18 feet road but she registered extra 23 feet on the south side with 18 feet road measuring from the west end.The said property with Sale Deed no: 7216/2019 and 7215/2019 was again sold to Kondoji Nagarthana with Sale Deed no: 2691/2021 and which was again purchased by Vardhineni Rajeshwar Rao with Sale Deed no: 435/2024, which is clear case registered multiple times under benami names.On inspection of the site by the Korutla Municipality the authorities have confirmed that the construction made by them was illegal and encroached 23 feet out of 40 feet of my property and issued Speaking order No. G1/962/2024 along with W.P 2002/2025 filed in the high court of Telangana.The said individual Vardhineni Rajeshwar Rao has manipulated the records of documents and registering the same property multiple times in multiple names to mislead and confuse the court practicing foul play and malpractice and filed the W.P No: 2339/2025 requesting the cancellation of the Speaking Order No: G1/962/2024I am requesting the Chief Minister of Telangana, to help me get justice and my rightful rights as a proud individual of Telangana.Thanking you,Narsayya Rajaram Kanikaram9989023303\n"
          ]
        }
      ]
    },
    {
      "cell_type": "code",
      "source": [
        "for i in range(len(document.paragraphs)):\n",
        "  print(\"The content of the paragraph \"+str(i+1)+\" is: \"+document.paragraphs[i].text+\"\\n\")"
      ],
      "metadata": {
        "colab": {
          "base_uri": "https://localhost:8080/"
        },
        "id": "AkDK3tgeMSwe",
        "outputId": "08af85ab-1bca-47cb-880f-04f726aed158"
      },
      "execution_count": 7,
      "outputs": [
        {
          "output_type": "stream",
          "name": "stdout",
          "text": [
            "The content of the paragraph 1 is: To,\n",
            "\n",
            "The content of the paragraph 2 is: CM PRAJAVANI,\n",
            "\n",
            "The content of the paragraph 3 is: District Collector, Jagtial,\n",
            "\n",
            "The content of the paragraph 4 is: Municipal Commissioner, Korutla,\n",
            "\n",
            "The content of the paragraph 5 is: Revenu Divisional Officer, Korutla.\n",
            "\n",
            "The content of the paragraph 6 is: \n",
            "\n",
            "The content of the paragraph 7 is: My name is Narsayya Rajaram Kanikaram S/o Rajaram, Age: 66 Years, R/o: 6-3-1176, Flat No:109, Buddha View Apartments, B S Maqta, Begumpet, Hyderabad.\n",
            "\n",
            "The content of the paragraph 8 is: I would like to bring light to the injustice I am facing as a senior citizen due to the said individual 1)Vardhineni Rajeshwar Rao S/o Ramarao by occupying my property and constructing Illegal building over it, we have filed multiple complaints with the korutla municipality, Hence the Municipality team visited the site and served notice to the following individual and issued Speaking Order No: G1/962/2024 along with W.P 2002/2025 to take strict action against Vardhineni Rajeshwar Rao w.r.t Telangana Municipality Act, 2019.\n",
            "\n",
            "The content of the paragraph 9 is: I would like to inform that the said individual has purchased the property sized 30 feet (facing south) with sale deed no: 1161/2021 from Anugandula Narsu, originally sized 49 feet 6 inches (facing south with 18 feet road) with Link Document No:995/1996, with 19 feet 6 inches remaining on the east side of the property measuring from the west end.\n",
            "\n",
            "The content of the paragraph 10 is: Anagandula Narsu executed another sale deed no: 7216/2019 with Bejarapu Prashanth Kumar with the extent of 42 feet on the east side (facing south with 18 feet road), but as per the Link Document No:995/1996 there should be only 19 feet left on the east part of south side with 18 feet road but she registered extra 23 feet on the south side with 18 feet road measuring from the west end.\n",
            "\n",
            "The content of the paragraph 11 is: The said property with Sale Deed no: 7216/2019 and 7215/2019 was again sold to Kondoji Nagarthana with Sale Deed no: 2691/2021 and which was again purchased by Vardhineni Rajeshwar Rao with Sale Deed no: 435/2024, which is clear case registered multiple times under benami names.\n",
            "\n",
            "The content of the paragraph 12 is: On inspection of the site by the Korutla Municipality the authorities have confirmed that the construction made by them was illegal and encroached 23 feet out of 40 feet of my property and issued Speaking order No. G1/962/2024 along with W.P 2002/2025 filed in the high court of Telangana.\n",
            "\n",
            "The content of the paragraph 13 is: The said individual Vardhineni Rajeshwar Rao has manipulated the records of documents and registering the same property multiple times in multiple names to mislead and confuse the court practicing foul play and malpractice and filed the W.P No: 2339/2025 requesting the cancellation of the Speaking Order No: G1/962/2024\n",
            "\n",
            "The content of the paragraph 14 is: I am requesting the Chief Minister of Telangana, to help me get justice and my rightful rights as a proud individual of Telangana.\n",
            "\n",
            "The content of the paragraph 15 is: \n",
            "\n",
            "The content of the paragraph 16 is: Thanking you,\n",
            "\n",
            "The content of the paragraph 17 is: Narsayya Rajaram Kanikaram\n",
            "\n",
            "The content of the paragraph 18 is: 9989023303\n",
            "\n",
            "The content of the paragraph 19 is: \n",
            "\n"
          ]
        }
      ]
    }
  ]
}